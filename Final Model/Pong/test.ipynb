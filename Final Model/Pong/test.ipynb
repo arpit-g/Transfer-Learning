{
 "cells": [
  {
   "cell_type": "markdown",
   "metadata": {},
   "source": [
    "## Imports"
   ]
  },
  {
   "cell_type": "code",
   "execution_count": 6,
   "metadata": {},
   "outputs": [],
   "source": [
    "%matplotlib inline\n",
    "\n",
    "import time\n",
    "\n",
    "import gym\n",
    "import math\n",
    "import random\n",
    "import numpy as np\n",
    "import matplotlib\n",
    "import matplotlib.pyplot as plt\n",
    "from collections import namedtuple\n",
    "from itertools import count\n",
    "from copy import deepcopy\n",
    "from PIL import Image\n",
    "\n",
    "import torch\n",
    "import torch.nn as nn\n",
    "import torch.optim as optim\n",
    "import torch.nn.functional as F\n",
    "from torch.autograd import Variable\n",
    "import torchvision.transforms as T"
   ]
  },
  {
   "cell_type": "markdown",
   "metadata": {},
   "source": [
    "\n",
    "\n",
    "## Initialization"
   ]
  },
  {
   "cell_type": "code",
   "execution_count": 7,
   "metadata": {},
   "outputs": [
    {
     "name": "stdout",
     "output_type": "stream",
     "text": [
      "Use GPU: True\n"
     ]
    }
   ],
   "source": [
    "use_gpu = torch.cuda.is_available()\n",
    "print('Use GPU: {}'.format(use_gpu))"
   ]
  },
  {
   "cell_type": "markdown",
   "metadata": {},
   "source": [
    "## Replay memory"
   ]
  },
  {
   "cell_type": "code",
   "execution_count": 8,
   "metadata": {},
   "outputs": [],
   "source": [
    "from collections import deque\n",
    "import random\n",
    "\n",
    "class ReplayMemory():\n",
    "    '''\n",
    "    Replay memory to store states, actions, rewards, dones for batch sampling\n",
    "    '''\n",
    "    def __init__(self, capacity):\n",
    "        '''\n",
    "        :param capacity: replay memory capacity\n",
    "        '''\n",
    "        self.buffer = deque(maxlen=capacity)\n",
    "        \n",
    "    def add(self, state, action, reward, done, next_state):\n",
    "        '''\n",
    "        :param state: current state, atari_wrappers.LazyFrames object\n",
    "        :param action: action\n",
    "        :param reward: reward for the action\n",
    "        :param done: \"done\" flag is True when the episode finished\n",
    "        :param next_state: next state, atari_wrappers.LazyFrames object\n",
    "        '''\n",
    "        experience = (state, action, reward, done, next_state)\n",
    "        self.buffer.append(experience)\n",
    "        \n",
    "    def sample(self, batch_size):\n",
    "        '''\n",
    "        Samples the data from the buffer of a desired size\n",
    "        \n",
    "        :param batch_size: sample batch size\n",
    "        :return: batch of (states, actions, rewards, dones, next states).\n",
    "                 all are numpy arrays. states and next states have shape of \n",
    "                 (batch_size, frames, width, height), where frames = 4.\n",
    "                 actions, rewards and dones have shape of (batch_size,)\n",
    "        '''\n",
    "        if self.count() < batch_size:\n",
    "            batch = random.sample(self.buffer, self.count())\n",
    "        else:\n",
    "            batch = random.sample(self.buffer, batch_size)\n",
    "            \n",
    "        state_batch = np.array([np.array(experience[0]) for experience in batch])\n",
    "        action_batch = np.array([experience[1] for experience in batch])\n",
    "        reward_batch = np.array([experience[2] for experience in batch])\n",
    "        done_batch = np.array([experience[3] for experience in batch])\n",
    "        next_state_batch = np.array([np.array(experience[4]) for experience in batch])\n",
    "        \n",
    "        return state_batch, action_batch, reward_batch, done_batch, next_state_batch\n",
    "    \n",
    "    def count(self):\n",
    "        return len(self.buffer)"
   ]
  },
  {
   "cell_type": "markdown",
   "metadata": {},
   "source": [
    "\n",
    "## Q-Network"
   ]
  },
  {
   "cell_type": "code",
   "execution_count": 9,
   "metadata": {},
   "outputs": [],
   "source": [
    "class DQN(nn.Module):\n",
    "    '''\n",
    "    Deep Q-Network\n",
    "    '''\n",
    "    def __init__(self, num_actions):\n",
    "        super(DQN, self).__init__()\n",
    "        self.conv1 = nn.Conv2d(4, 32, kernel_size=8, stride=4, padding=0)\n",
    "        # self.bn1 = nn.BatchNorm2d(16)\n",
    "        self.conv2 = nn.Conv2d(32, 64, kernel_size=4, stride=2, padding=0)\n",
    "        # self.bn2 = nn.BatchNorm2d(32)\n",
    "        self.conv3 = nn.Conv2d(64, 64, kernel_size=3, stride=1, padding=0)\n",
    "        # self.bn3 = nn.BatchNorm2d(64)\n",
    "        \n",
    "        self.fc1 = nn.Linear(7 * 7 * 64, 512)\n",
    "        self.fc2 = nn.Linear(512, num_actions)\n",
    "        \n",
    "    def forward(self, inputs):\n",
    "        '''\n",
    "        Forward propogation\n",
    "        \n",
    "        :param inputs: images. expected sshape is (batch_size, frames, width, height)\n",
    "        '''\n",
    "        out = F.relu(self.conv1(inputs))\n",
    "        out = F.relu(self.conv2(out))\n",
    "        out = F.relu(self.conv3(out))\n",
    "        \n",
    "        out = out.view(out.size(0), -1)\n",
    "        out = F.relu(self.fc1(out))\n",
    "        out = self.fc2(out)\n",
    "        \n",
    "        return out"
   ]
  },
  {
   "cell_type": "markdown",
   "metadata": {},
   "source": [
    "## Agent"
   ]
  },
  {
   "cell_type": "code",
   "execution_count": 10,
   "metadata": {},
   "outputs": [],
   "source": [
    "import os\n",
    "from atari_wrappers import wrap_dqn\n",
    "import datetime\n",
    "\n",
    "class PongAgent:\n",
    "    '''\n",
    "    Pong agent. Implements training and testing methods\n",
    "    '''\n",
    "    def __init__(self):\n",
    "        self.env = wrap_dqn(gym.make('PongDeterministic-v0'))\n",
    "        self.num_actions = self.env.action_space.n\n",
    "        \n",
    "        self.dqn = DQN(self.num_actions)\n",
    "        self.target_dqn = DQN(self.num_actions)\n",
    "        \n",
    "        if use_gpu:\n",
    "            self.dqn.cuda()\n",
    "            self.target_dqn.cuda()        \n",
    "        \n",
    "        self.buffer = ReplayMemory(1000000)\n",
    "        \n",
    "        self.gamma = 0.99\n",
    "        \n",
    "        self.mse_loss = nn.MSELoss()\n",
    "        self.optim = optim.RMSprop(self.dqn.parameters(), lr=0.0001)\n",
    "        \n",
    "        self.out_dir = './model'\n",
    "        \n",
    "        if not os.path.exists(self.out_dir):\n",
    "            os.makedirs(self.out_dir)\n",
    "\n",
    "        \n",
    "    def to_var(self, x):\n",
    "        '''\n",
    "        Converts x to Variable\n",
    "        \n",
    "        :param x: torch Tensor\n",
    "        :return: torch Variable\n",
    "        '''\n",
    "        x_var = Variable(x)\n",
    "        if use_gpu:\n",
    "            x_var = x_var.cuda()\n",
    "        return x_var\n",
    "\n",
    "        \n",
    "    def predict_q_values(self, states):\n",
    "        '''\n",
    "        Compute Q values bypassing states through estimation network\n",
    "        \n",
    "        :param states: states, numpy array, the shape is (batch_size, frames, width, height)\n",
    "        :return: actions, Variable, the shape is (batch_size, num_actions)\n",
    "        '''\n",
    "        states = self.to_var(torch.from_numpy(states).float())\n",
    "        actions = self.dqn(states)\n",
    "        return actions\n",
    "\n",
    "    \n",
    "\n",
    "    \n",
    "    def select_action(self, state, epsilon):\n",
    "        '''\n",
    "        Select action according to epsilon greedy policy. We will sometimes use \n",
    "        our model for choosing the action, and sometimes we will just sample one \n",
    "        uniformly.\n",
    "        \n",
    "        :param state: state, atari_wrappers.LazyFrames object - list of 4 frames,\n",
    "                      each is a shape of (1, width, height)\n",
    "        :param epsilon: epsilon for making choice between random and generated by dqn action\n",
    "        \n",
    "        :return: action index\n",
    "        '''\n",
    "        choice = np.random.choice([0, 1], p=(epsilon, (1 - epsilon)))\n",
    "        \n",
    "        if choice == 0:\n",
    "            return np.random.choice(range(self.num_actions))\n",
    "        else:\n",
    "            state = np.expand_dims(state, 0)\n",
    "            actions = self.predict_q_values(state)\n",
    "            return np.argmax(actions.data.cpu().numpy())\n",
    "\n",
    "    def sync_target_network(self):\n",
    "        '''\n",
    "        Copies weights from estimation to target network\n",
    "        '''\n",
    "        primary_params = list(self.dqn.parameters())\n",
    "        target_params = list(self.target_dqn.parameters())\n",
    "        for i in range(0, len(primary_params)):\n",
    "            target_params[i].data[:] = primary_params[i].data[:]\n",
    "\n",
    "    \n",
    "\n",
    "        \n",
    "        \n",
    "    def load_model(self, filename):\n",
    "        '''\n",
    "        Loads model from the disk\n",
    "        \n",
    "        :param filename: model filename\n",
    "        '''\n",
    "        self.dqn.load_state_dict(torch.load(filename))\n",
    "        self.sync_target_network()\n",
    "        \n",
    "        \n",
    "    def play(self, episodes):\n",
    "        '''\n",
    "        Plays the game and renders it\n",
    "        \n",
    "        :param episodes: number of episodes to play\n",
    "        '''\n",
    "        for i in range(1, episodes + 1):\n",
    "            done = False\n",
    "            state = self.env.reset()\n",
    "            while not done:\n",
    "#                 action = np.random.choice(range(self.num_actions)) #playing randomly\n",
    "                action = self.select_action(state, 0) # force to choose an action from the network\n",
    "                state, reward, done, _ = self.env.step(action)\n",
    "                self.env.render()\n",
    "                \n",
    "                \n",
    "    def close_env(self):\n",
    "        '''\n",
    "        Closes the environment. Should be called to clean-up\n",
    "        '''\n",
    "        self.env.close()\n",
    "        "
   ]
  },
  {
   "cell_type": "code",
   "execution_count": 11,
   "metadata": {
    "scrolled": true
   },
   "outputs": [
    {
     "name": "stderr",
     "output_type": "stream",
     "text": [
      "C:\\ProgramData\\Anaconda3\\lib\\site-packages\\gym\\envs\\registration.py:17: PkgResourcesDeprecationWarning: Parameters to load are deprecated.  Call .resolve and .require separately.\n",
      "  result = entry_point.load(False)\n"
     ]
    }
   ],
   "source": [
    "agent = PongAgent()"
   ]
  },
  {
   "cell_type": "markdown",
   "metadata": {},
   "source": [
    "## Load the model and play"
   ]
  },
  {
   "cell_type": "code",
   "execution_count": 12,
   "metadata": {},
   "outputs": [],
   "source": [
    "agent.load_model('./model_d_v0_ada/current_model_2000.pth')\n",
    "agent.play(5)"
   ]
  },
  {
   "cell_type": "code",
   "execution_count": 13,
   "metadata": {},
   "outputs": [],
   "source": [
    "agent.close_env()"
   ]
  },
  {
   "cell_type": "code",
   "execution_count": null,
   "metadata": {},
   "outputs": [],
   "source": []
  }
 ],
 "metadata": {
  "kernelspec": {
   "display_name": "Python 3",
   "language": "python",
   "name": "python3"
  },
  "language_info": {
   "codemirror_mode": {
    "name": "ipython",
    "version": 3
   },
   "file_extension": ".py",
   "mimetype": "text/x-python",
   "name": "python",
   "nbconvert_exporter": "python",
   "pygments_lexer": "ipython3",
   "version": "3.7.1"
  }
 },
 "nbformat": 4,
 "nbformat_minor": 2
}
